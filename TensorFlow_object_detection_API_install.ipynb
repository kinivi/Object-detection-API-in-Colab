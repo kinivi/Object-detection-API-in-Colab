{
  "nbformat": 4,
  "nbformat_minor": 0,
  "metadata": {
    "colab": {
      "name": "TensorFlow object detection API install.ipynb",
      "provenance": [],
      "collapsed_sections": [],
      "include_colab_link": true
    },
    "kernelspec": {
      "name": "python3",
      "display_name": "Python 3"
    },
    "accelerator": "GPU"
  },
  "cells": [
    {
      "cell_type": "markdown",
      "metadata": {
        "id": "view-in-github",
        "colab_type": "text"
      },
      "source": [
        "<a href=\"https://colab.research.google.com/github/kinivi/Object-detection-API-in-Colab/blob/master/TensorFlow_object_detection_API_install.ipynb\" target=\"_parent\"><img src=\"https://colab.research.google.com/assets/colab-badge.svg\" alt=\"Open In Colab\"/></a>"
      ]
    },
    {
      "cell_type": "markdown",
      "metadata": {
        "id": "y9jfbVZVIh0B",
        "colab_type": "text"
      },
      "source": [
        "# 🤨 How to train NN in Colab using TF Object detection API 🧐"
      ]
    },
    {
      "cell_type": "markdown",
      "metadata": {
        "id": "8T5gI2KLI2_D",
        "colab_type": "text"
      },
      "source": [
        "## Firstly, install all necessary requirements\n",
        "### Installing TF version <=1.15"
      ]
    },
    {
      "cell_type": "code",
      "metadata": {
        "id": "EK7OTHLaPjRd",
        "colab_type": "code",
        "colab": {}
      },
      "source": [
        "!pip install tensorflow-gpu==1.14"
      ],
      "execution_count": 0,
      "outputs": []
    },
    {
      "cell_type": "markdown",
      "metadata": {
        "id": "ItN-tDxlJJG-",
        "colab_type": "text"
      },
      "source": [
        "###Neccessary tools for Obj Detection API"
      ]
    },
    {
      "cell_type": "code",
      "metadata": {
        "id": "rXK5HNtgCgto",
        "colab_type": "code",
        "colab": {}
      },
      "source": [
        "!apt-get install -y -qq protobuf-compiler python-pil python-lxml"
      ],
      "execution_count": 0,
      "outputs": []
    },
    {
      "cell_type": "markdown",
      "metadata": {
        "id": "aHoUepkeJS0o",
        "colab_type": "text"
      },
      "source": [
        "###Clone Tensorflow models repository and do all necessary instalation "
      ]
    },
    {
      "cell_type": "code",
      "metadata": {
        "id": "Pl9zN-ftCvN9",
        "colab_type": "code",
        "colab": {}
      },
      "source": [
        "!git clone --quiet https://github.com/tensorflow/models.git"
      ],
      "execution_count": 0,
      "outputs": []
    },
    {
      "cell_type": "code",
      "metadata": {
        "id": "2WocgY8mC_kd",
        "colab_type": "code",
        "colab": {}
      },
      "source": [
        "import os\n",
        "os.chdir('models/research')"
      ],
      "execution_count": 0,
      "outputs": []
    },
    {
      "cell_type": "code",
      "metadata": {
        "id": "fOOIZjJVDDIO",
        "colab_type": "code",
        "colab": {}
      },
      "source": [
        "!protoc object_detection/protos/*.proto --python_out=."
      ],
      "execution_count": 0,
      "outputs": []
    },
    {
      "cell_type": "code",
      "metadata": {
        "id": "lEbSkmMzDIC9",
        "colab_type": "code",
        "colab": {}
      },
      "source": [
        "import sys\n",
        "sys.path.append('/content/models/research/slim')"
      ],
      "execution_count": 0,
      "outputs": []
    },
    {
      "cell_type": "code",
      "metadata": {
        "id": "B-zwwoljW8me",
        "colab_type": "code",
        "colab": {}
      },
      "source": [
        "!pip install 'prompt-toolkit==1.0.15'"
      ],
      "execution_count": 0,
      "outputs": []
    },
    {
      "cell_type": "code",
      "metadata": {
        "id": "hqTYHXf2YlMl",
        "colab_type": "code",
        "colab": {}
      },
      "source": [
        "import os\n",
        "os.environ['PYTHONPATH'] += \":/content/models/research:/content/models/research/slim\""
      ],
      "execution_count": 0,
      "outputs": []
    },
    {
      "cell_type": "code",
      "metadata": {
        "id": "GUl3JNDfVkcz",
        "colab_type": "code",
        "colab": {}
      },
      "source": [
        "import os\n",
        "os.chdir('/content/models')"
      ],
      "execution_count": 0,
      "outputs": []
    },
    {
      "cell_type": "markdown",
      "metadata": {
        "id": "NYKL2k4AKJhS",
        "colab_type": "text"
      },
      "source": [
        "###🧪 Test installation"
      ]
    },
    {
      "cell_type": "code",
      "metadata": {
        "id": "lQuBPZWyVJRI",
        "colab_type": "code",
        "colab": {}
      },
      "source": [
        "!python research/object_detection/builders/model_builder_test.py"
      ],
      "execution_count": 0,
      "outputs": []
    },
    {
      "cell_type": "markdown",
      "metadata": {
        "id": "5oNI8O2e-dyu",
        "colab_type": "text"
      },
      "source": [
        "## ✇ Mount drive to copy files"
      ]
    },
    {
      "cell_type": "code",
      "metadata": {
        "id": "yC9J9UnbL-3j",
        "colab_type": "code",
        "colab": {}
      },
      "source": [
        "from google.colab import drive\n",
        "drive.mount('/content/drive', force_remount=True)"
      ],
      "execution_count": 0,
      "outputs": []
    },
    {
      "cell_type": "markdown",
      "metadata": {
        "id": "v0eVBfrg_Esa",
        "colab_type": "text"
      },
      "source": [
        "### 🗂 Change home dir to folder with model files\n",
        "\n",
        "**small tip**: *we dont need to copy all models folder to disk, just files of data(like **checkpoints** and **images**) and config files* "
      ]
    },
    {
      "cell_type": "code",
      "metadata": {
        "id": "UkqBNDN8MBTG",
        "colab_type": "code",
        "colab": {}
      },
      "source": [
        "import os\n",
        "os.chdir('/content/drive/My Drive/Colab/models')"
      ],
      "execution_count": 0,
      "outputs": []
    },
    {
      "cell_type": "markdown",
      "metadata": {
        "id": "r01j-6KIMvvB",
        "colab_type": "text"
      },
      "source": [
        "## 🎉 Finally, start the training"
      ]
    },
    {
      "cell_type": "code",
      "metadata": {
        "id": "UfQ37rVKXa7F",
        "colab_type": "code",
        "colab": {}
      },
      "source": [
        "!python /content/models/research/object_detection/legacy/train.py \\\n",
        "--logtostderr \\\n",
        "--pipeline_config_path=ssd_mobilenet_v2_coco.config \\\n",
        "--train_dir=train"
      ],
      "execution_count": 0,
      "outputs": []
    }
  ]
}